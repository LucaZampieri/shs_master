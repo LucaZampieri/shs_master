{
 "cells": [
  {
   "cell_type": "code",
   "execution_count": 1,
   "metadata": {
    "collapsed": true
   },
   "outputs": [],
   "source": [
    "import pandas as pd\n",
    "import matplotlib\n",
    "import matplotlib.pyplot as plt\n",
    "import seaborn as sns\n",
    "import numpy as np\n",
    "%matplotlib inline  \n",
    "\n",
    "FOLDER = 'plots/'"
   ]
  },
  {
   "cell_type": "markdown",
   "metadata": {},
   "source": [
    "## Load and set params:"
   ]
  },
  {
   "cell_type": "code",
   "execution_count": 2,
   "metadata": {
    "collapsed": true
   },
   "outputs": [],
   "source": [
    "raw_res = pd.read_csv('raw_results.csv')"
   ]
  },
  {
   "cell_type": "code",
   "execution_count": 3,
   "metadata": {},
   "outputs": [
    {
     "name": "stdout",
     "output_type": "stream",
     "text": [
      "['Participant' 'Sexe' 'B_sexe' 'Age' 'Groupe' 'APP' 'TEST' 'Delta']\n",
      "  Participant Sexe  B_sexe  Age  Groupe  APP  TEST  Delta\n",
      "0        AA1F    F       0   19       1   17    15     -2\n",
      "   Participant Sexe  B_sexe  Age  Groupe  APP  TEST  Delta\n",
      "10        AB1H    H       1   19       2   12    14      2\n",
      "   Participant Sexe  B_sexe  Age  Groupe  APP  TEST  Delta\n",
      "20        BB1F    F       0   19       3   11     9     -2\n",
      "   Participant Sexe  B_sexe  Age  Groupe  APP  TEST  Delta\n",
      "30        BA1H    H       1   19       4   11     9     -2\n"
     ]
    },
    {
     "data": {
      "text/html": [
       "<div>\n",
       "<style>\n",
       "    .dataframe thead tr:only-child th {\n",
       "        text-align: right;\n",
       "    }\n",
       "\n",
       "    .dataframe thead th {\n",
       "        text-align: left;\n",
       "    }\n",
       "\n",
       "    .dataframe tbody tr th {\n",
       "        vertical-align: top;\n",
       "    }\n",
       "</style>\n",
       "<table border=\"1\" class=\"dataframe\">\n",
       "  <thead>\n",
       "    <tr style=\"text-align: right;\">\n",
       "      <th></th>\n",
       "      <th>Participant</th>\n",
       "      <th>Sexe</th>\n",
       "      <th>B_sexe</th>\n",
       "      <th>Age</th>\n",
       "      <th>Groupe</th>\n",
       "      <th>APP</th>\n",
       "      <th>TEST</th>\n",
       "      <th>Delta</th>\n",
       "    </tr>\n",
       "  </thead>\n",
       "  <tbody>\n",
       "    <tr>\n",
       "      <th>35</th>\n",
       "      <td>BA6H</td>\n",
       "      <td>H</td>\n",
       "      <td>1</td>\n",
       "      <td>22</td>\n",
       "      <td>4</td>\n",
       "      <td>18</td>\n",
       "      <td>13</td>\n",
       "      <td>-5</td>\n",
       "    </tr>\n",
       "    <tr>\n",
       "      <th>36</th>\n",
       "      <td>BA7F</td>\n",
       "      <td>F</td>\n",
       "      <td>0</td>\n",
       "      <td>22</td>\n",
       "      <td>4</td>\n",
       "      <td>12</td>\n",
       "      <td>10</td>\n",
       "      <td>-2</td>\n",
       "    </tr>\n",
       "    <tr>\n",
       "      <th>37</th>\n",
       "      <td>BA8F</td>\n",
       "      <td>F</td>\n",
       "      <td>0</td>\n",
       "      <td>19</td>\n",
       "      <td>4</td>\n",
       "      <td>16</td>\n",
       "      <td>17</td>\n",
       "      <td>1</td>\n",
       "    </tr>\n",
       "    <tr>\n",
       "      <th>38</th>\n",
       "      <td>BA9H</td>\n",
       "      <td>H</td>\n",
       "      <td>1</td>\n",
       "      <td>21</td>\n",
       "      <td>4</td>\n",
       "      <td>11</td>\n",
       "      <td>11</td>\n",
       "      <td>0</td>\n",
       "    </tr>\n",
       "    <tr>\n",
       "      <th>39</th>\n",
       "      <td>BA10F</td>\n",
       "      <td>F</td>\n",
       "      <td>0</td>\n",
       "      <td>21</td>\n",
       "      <td>4</td>\n",
       "      <td>14</td>\n",
       "      <td>12</td>\n",
       "      <td>-2</td>\n",
       "    </tr>\n",
       "  </tbody>\n",
       "</table>\n",
       "</div>"
      ],
      "text/plain": [
       "   Participant Sexe  B_sexe  Age  Groupe  APP  TEST  Delta\n",
       "35        BA6H    H       1   22       4   18    13     -5\n",
       "36        BA7F    F       0   22       4   12    10     -2\n",
       "37        BA8F    F       0   19       4   16    17      1\n",
       "38        BA9H    H       1   21       4   11    11      0\n",
       "39       BA10F    F       0   21       4   14    12     -2"
      ]
     },
     "execution_count": 3,
     "metadata": {},
     "output_type": "execute_result"
    }
   ],
   "source": [
    "raw_res.columns=['Participant', 'Sexe', 'B_sexe', 'Age', 'Groupe', 'APP', 'TEST','Delta']\n",
    "print(raw_res.columns.values)\n",
    "for i in range(1,5):\n",
    "    print(raw_res.loc[raw_res['Groupe'] == i].head(1))\n",
    "raw_res.tail(5)"
   ]
  },
  {
   "cell_type": "code",
   "execution_count": null,
   "metadata": {
    "collapsed": true
   },
   "outputs": [],
   "source": []
  },
  {
   "cell_type": "code",
   "execution_count": 4,
   "metadata": {},
   "outputs": [
    {
     "data": {
      "text/html": [
       "<div>\n",
       "<style>\n",
       "    .dataframe thead tr:only-child th {\n",
       "        text-align: right;\n",
       "    }\n",
       "\n",
       "    .dataframe thead th {\n",
       "        text-align: left;\n",
       "    }\n",
       "\n",
       "    .dataframe tbody tr th {\n",
       "        vertical-align: top;\n",
       "    }\n",
       "</style>\n",
       "<table border=\"1\" class=\"dataframe\">\n",
       "  <thead>\n",
       "    <tr style=\"text-align: right;\">\n",
       "      <th></th>\n",
       "      <th>Participant</th>\n",
       "      <th>Sexe</th>\n",
       "      <th>B_sexe</th>\n",
       "      <th>Age</th>\n",
       "      <th>Groupe</th>\n",
       "      <th>APP</th>\n",
       "      <th>TEST</th>\n",
       "      <th>Delta</th>\n",
       "      <th>retention</th>\n",
       "      <th>category</th>\n",
       "    </tr>\n",
       "  </thead>\n",
       "  <tbody>\n",
       "    <tr>\n",
       "      <th>0</th>\n",
       "      <td>AA1F</td>\n",
       "      <td>F</td>\n",
       "      <td>0</td>\n",
       "      <td>19</td>\n",
       "      <td>1</td>\n",
       "      <td>17</td>\n",
       "      <td>15</td>\n",
       "      <td>-2</td>\n",
       "      <td>88.235294</td>\n",
       "      <td>0</td>\n",
       "    </tr>\n",
       "    <tr>\n",
       "      <th>1</th>\n",
       "      <td>AA2F</td>\n",
       "      <td>F</td>\n",
       "      <td>0</td>\n",
       "      <td>26</td>\n",
       "      <td>1</td>\n",
       "      <td>15</td>\n",
       "      <td>13</td>\n",
       "      <td>-2</td>\n",
       "      <td>86.666667</td>\n",
       "      <td>0</td>\n",
       "    </tr>\n",
       "    <tr>\n",
       "      <th>2</th>\n",
       "      <td>AA3H</td>\n",
       "      <td>H</td>\n",
       "      <td>1</td>\n",
       "      <td>20</td>\n",
       "      <td>1</td>\n",
       "      <td>16</td>\n",
       "      <td>16</td>\n",
       "      <td>0</td>\n",
       "      <td>100.000000</td>\n",
       "      <td>0</td>\n",
       "    </tr>\n",
       "    <tr>\n",
       "      <th>3</th>\n",
       "      <td>AA4H</td>\n",
       "      <td>H</td>\n",
       "      <td>1</td>\n",
       "      <td>19</td>\n",
       "      <td>1</td>\n",
       "      <td>14</td>\n",
       "      <td>13</td>\n",
       "      <td>-1</td>\n",
       "      <td>92.857143</td>\n",
       "      <td>0</td>\n",
       "    </tr>\n",
       "    <tr>\n",
       "      <th>4</th>\n",
       "      <td>AA5F</td>\n",
       "      <td>F</td>\n",
       "      <td>0</td>\n",
       "      <td>26</td>\n",
       "      <td>1</td>\n",
       "      <td>9</td>\n",
       "      <td>8</td>\n",
       "      <td>-1</td>\n",
       "      <td>88.888889</td>\n",
       "      <td>0</td>\n",
       "    </tr>\n",
       "  </tbody>\n",
       "</table>\n",
       "</div>"
      ],
      "text/plain": [
       "  Participant Sexe  B_sexe  Age  Groupe  APP  TEST  Delta   retention  \\\n",
       "0        AA1F    F       0   19       1   17    15     -2   88.235294   \n",
       "1        AA2F    F       0   26       1   15    13     -2   86.666667   \n",
       "2        AA3H    H       1   20       1   16    16      0  100.000000   \n",
       "3        AA4H    H       1   19       1   14    13     -1   92.857143   \n",
       "4        AA5F    F       0   26       1    9     8     -1   88.888889   \n",
       "\n",
       "   category  \n",
       "0         0  \n",
       "1         0  \n",
       "2         0  \n",
       "3         0  \n",
       "4         0  "
      ]
     },
     "execution_count": 4,
     "metadata": {},
     "output_type": "execute_result"
    }
   ],
   "source": [
    "# add category column\n",
    "def label_retention (row):\n",
    "    \"\"\"Compute percentage of retention\"\"\"\n",
    "    return row['TEST']/row['APP']*100\n",
    "\n",
    "#raw_res['category'] = raw_res.loc[raw_res['Groupe'] == i]\n",
    "def label_category (row):\n",
    "    # if Groupe AA or BB\n",
    "    if row['Groupe'] in [1,3] : return 0\n",
    "    if row['Groupe'] in [2,4] : return 1\n",
    "    else : return 2\n",
    "\n",
    "raw_res['retention'] = raw_res.apply(lambda x : label_retention(x), axis=1)\n",
    "raw_res['category'] = raw_res.apply(lambda x : label_category(x), axis=1)\n",
    "raw_res.head()"
   ]
  },
  {
   "cell_type": "code",
   "execution_count": 5,
   "metadata": {
    "collapsed": true,
    "scrolled": true
   },
   "outputs": [],
   "source": [
    "#pd.plotting.scatter_matrix(raw_res, alpha = 0.3, figsize = (14,8), diagonal = 'kde');\n",
    "\n",
    "#sns.pairplot(raw_res);\n",
    "\n",
    "#df.loc[df['column_name'].isin(some_values)]"
   ]
  },
  {
   "cell_type": "markdown",
   "metadata": {},
   "source": [
    "# Helper funcitons:"
   ]
  },
  {
   "cell_type": "code",
   "execution_count": 6,
   "metadata": {
    "collapsed": true
   },
   "outputs": [],
   "source": [
    "def mean(filter_col,col='TEST'):\n",
    "    return pd.DataFrame(resultats.groupby(by=filter_col).mean()[col])\n",
    "\n",
    "def std(filter_col,col='TEST'):\n",
    "    return pd.DataFrame(resultats.groupby(by=filter_col).std()[col])\n",
    "\n",
    "def test_mean(col):\n",
    "    count = resultats.groupby(by=col).count()\n",
    "    sum_ = resultats.groupby(by=col).sum()\n",
    "    return sum_/count\n",
    "\n",
    "def test_mean_double(col1,col2):\n",
    "    count = resultats.groupby(by=[col1,col2]).count()\n",
    "    sum_ = resultats.groupby(by=[col1,col2]).sum()\n",
    "    return sum_/count"
   ]
  },
  {
   "cell_type": "code",
   "execution_count": 7,
   "metadata": {
    "collapsed": true
   },
   "outputs": [],
   "source": [
    "salles = ['AA','AB','BA','BB']\n",
    "groupes = [1,2,3,4]\n",
    "categories = [0,1]"
   ]
  },
  {
   "cell_type": "markdown",
   "metadata": {},
   "source": [
    "## Correlation:"
   ]
  },
  {
   "cell_type": "code",
   "execution_count": 8,
   "metadata": {},
   "outputs": [
    {
     "data": {
      "image/png": "[encoded data removed]",
      "text/plain": [
       "<matplotlib.figure.Figure at 0x7f0d65166c50>"
      ]
     },
     "metadata": {},
     "output_type": "display_data"
    }
   ],
   "source": [
    "corr = np.corrcoef(np.random.randn(10, 200))\n",
    ">>> mask = np.zeros_like(corr)\n",
    "mask[np.triu_indices_from(mask)] = True\n",
    "with sns.axes_style(\"white\"):\n",
    "...     ax = sns.heatmap(corr, mask=mask, vmax=.3, square=True)"
   ]
  },
  {
   "cell_type": "code",
   "execution_count": 16,
   "metadata": {},
   "outputs": [
    {
     "data": {
      "image/png": "[encoded data removed]",
      "text/plain": [
       "<matplotlib.figure.Figure at 0x7f0d61360da0>"
      ]
     },
     "metadata": {},
     "output_type": "display_data"
    }
   ],
   "source": [
    "# choose the columns to plot\n",
    "columns_to_plot = ['B_sexe','Age', 'category','retention']\n",
    "# 'APP', 'TEST', 'Delta'\n",
    "def plot_corr(df,columns_to_plot):\n",
    "    f, ax = plt.subplots(figsize=(10, 8))\n",
    "    corr = df[columns_to_plot].corr()\n",
    "    mask = np.zeros_like(corr)\n",
    "    mask[np.triu_indices_from(mask)] = True\n",
    "    #mask = np.zeros_like(corr, dtype=np.bool)\n",
    "    sns.heatmap(corr, vmin=-0.25, vmax=0.25,annot=True, mask=mask,\\\n",
    "                       cmap=sns.diverging_palette(220, 10, as_cmap=True),\n",
    "                square=True, ax=ax)\n",
    "\n",
    "plot_corr(raw_res,columns_to_plot)\n",
    "plt.title('Matrice de corrélation entre nos paramètres')\n",
    "plt.savefig(FOLDER + 'correlation_matrix.png')"
   ]
  },
  {
   "cell_type": "markdown",
   "metadata": {},
   "source": [
    "## compute the retention percentage of each context"
   ]
  },
  {
   "cell_type": "code",
   "execution_count": 24,
   "metadata": {},
   "outputs": [
    {
     "name": "stdout",
     "output_type": "stream",
     "text": [
      "mean pourcentage d\"oubli in salle: 1      92.46566505390037  % and std:   6.227578580323969\n",
      "mean pourcentage d\"oubli in salle: 2      89.66025641025641  % and std:   17.623201986791916\n",
      "mean pourcentage d\"oubli in salle: 3      88.39685314685315  % and std:   17.724371816858536\n",
      "mean pourcentage d\"oubli in salle: 4      87.26535311094133  % and std:   13.793264940793486\n",
      "Same:  89.86550908242086    With mean std:   10.010421760558728\n",
      "Different:  89.02855477855478    With mean std:   17.673786901825224\n"
     ]
    }
   ],
   "source": [
    "def compute_precentage_mean(df,groupe,app_col = 'APP', test_col = 'TEST'):\n",
    "    \"\"\"Percentage computed tested divided by learned\"\"\"\n",
    "    test = df[test_col][df['Groupe']==groupe]\n",
    "    appr = df[app_col][df['Groupe']==groupe]\n",
    "    percentage = test/appr*100\n",
    "    return percentage.mean(), percentage.std()\n",
    "\n",
    "mean_percentage = []\n",
    "std_percentage = []\n",
    "for x in groupes:\n",
    "    tmp, std_ = compute_precentage_mean(raw_res,x)\n",
    "    mean_percentage.append(tmp)\n",
    "    std_percentage.append(std_)\n",
    "    print('mean pourcentage d\"oubli in salle:',x,'    ',tmp,' % and std:  ',std_)\n",
    "print('Same: ',(mean_percentage[0]+mean_percentage[3])/2, '   With mean std:  ', (std_percentage[0]+std_percentage[3])/2)\n",
    "print('Different: ',(mean_percentage[1]+mean_percentage[2])/2, '   With mean std:  ', (std_percentage[1]+std_percentage[2])/2)\n",
    "for i in mean"
   ]
  },
  {
   "cell_type": "code",
   "execution_count": 48,
   "metadata": {
    "scrolled": true
   },
   "outputs": [
    {
     "name": "stdout",
     "output_type": "stream",
     "text": [
      "Median groupe  1 -1.0 Mean groupe  1  : -1.0\n",
      "Median groupe  2 -2.0 Mean groupe  2  : -1.3\n",
      "Median groupe  3 -1.5 Mean groupe  3  : -1.6\n",
      "Median groupe  4 -2.0 Mean groupe  4  : -1.8\n",
      "Median cat  0  : -1.0 Mean cat  0  : -1.3\n",
      "Median cat  1  : -2.0 Mean cat  1  : -1.55\n",
      "mean % per cat:  -6.5\n",
      "mean % per cat:  -7.75\n",
      "16.13 % of difference\n"
     ]
    }
   ],
   "source": [
    "def median_per_group(df,groupe,col = 'Delta'):\n",
    "    return np.median(df[col][df['Groupe'] == groupe])\n",
    "def median_per_cat(df,cat,col = 'Delta'):\n",
    "    return np.median(df[col][df['category'] == cat])\n",
    "def mean_per_group(df,groupe,col = 'Delta'):\n",
    "    return np.mean(df[col][df['Groupe'] == groupe])\n",
    "def mean_per_cat(df,cat,col = 'Delta'):\n",
    "    return np.mean(df[col][df['category'] == cat])\n",
    "\n",
    "for i in groupes:\n",
    "    print('Median groupe ',i ,median_per_group(raw_res,i),\\\n",
    "         'Mean groupe ',i,' :', mean_per_group(raw_res,i))\n",
    "for i in categories:\n",
    "    print ('Median cat ',i,' :', median_per_cat(raw_res,i),\\\n",
    "          'Mean cat ',i,' :', mean_per_cat(raw_res,i))\n",
    "\n",
    "tmp_list = []\n",
    "for i in categories:\n",
    "    tmp = mean_per_cat(raw_res,i)/20*100\n",
    "    print('mean % per cat: ',tmp)\n",
    "    tmp_list.append(tmp)\n",
    "print ('{:.2f}'.format(100-tmp_list[0]/tmp_list[1]*100),'% of difference')"
   ]
  },
  {
   "cell_type": "markdown",
   "metadata": {},
   "source": [
    "## scatter plots"
   ]
  },
  {
   "cell_type": "code",
   "execution_count": 49,
   "metadata": {},
   "outputs": [
    {
     "data": {
      "image/png": "[encoded data removed]",
      "text/plain": [
       "<matplotlib.figure.Figure at 0x7f9de6c3fc88>"
      ]
     },
     "metadata": {},
     "output_type": "display_data"
    }
   ],
   "source": [
    "def scatter_plot_by_salle(df,col_x,col_y):\n",
    "    for i,group in enumerate(groupes):\n",
    "        x = df[col_x][df['Groupe']==group]\n",
    "        y = df[col_y][(df['Groupe']==group)]\n",
    "        p = plt.scatter(x, y,label=str(i))\n",
    "    plt.xlabel(str(col_x))\n",
    "    plt.ylabel(str(col_y))\n",
    "    plt.legend()\n",
    "    plt.show()\n",
    "    \n",
    "scatter_plot_by_salle(raw_res,col_x='APP',col_y='TEST')"
   ]
  },
  {
   "cell_type": "code",
   "execution_count": 50,
   "metadata": {},
   "outputs": [
    {
     "name": "stdout",
     "output_type": "stream",
     "text": [
      "By sexe:  retention  as a function of  Age\n"
     ]
    },
    {
     "data": {
      "image/png": "[encoded data removed]",
      "text/plain": [
       "<matplotlib.figure.Figure at 0x7f9de6c5a0b8>"
      ]
     },
     "metadata": {},
     "output_type": "display_data"
    }
   ],
   "source": [
    "def scatter_plot_by_sex(df, col_x,col_y):\n",
    "    sexes = ['F','H']\n",
    "    print('By sexe: ', str(col_y),' as a function of ', str(col_x))\n",
    "    for sex in sexes:\n",
    "        x = df[col_x][df['Sexe']==sex]\n",
    "        y = df[col_y][(df['Sexe']==sex)]\n",
    "        plt.scatter(x, y)\n",
    "    plt.xlabel(str(col_x))\n",
    "    plt.ylabel(str(col_y))\n",
    "    plt.show()\n",
    "#scatter_plot_by_sex(col_x='CRI APP',col_y='TEST')\n",
    "scatter_plot_by_sex(raw_res, col_x='Age',col_y='retention')"
   ]
  },
  {
   "cell_type": "markdown",
   "metadata": {},
   "source": [
    "# Bar_plots"
   ]
  },
  {
   "cell_type": "code",
   "execution_count": 65,
   "metadata": {},
   "outputs": [
    {
     "ename": "NameError",
     "evalue": "name 'condlum_pvt' is not defined",
     "output_type": "error",
     "traceback": [
      "\u001b[0;31m---------------------------------------------------------------------------\u001b[0m",
      "\u001b[0;31mNameError\u001b[0m                                 Traceback (most recent call last)",
      "\u001b[0;32m<ipython-input-65-67bcd823b808>\u001b[0m in \u001b[0;36m<module>\u001b[0;34m()\u001b[0m\n\u001b[1;32m      2\u001b[0m \u001b[0mplt\u001b[0m\u001b[0;34m.\u001b[0m\u001b[0mfigure\u001b[0m\u001b[0;34m(\u001b[0m\u001b[0mfigsize\u001b[0m\u001b[0;34m=\u001b[0m\u001b[0;34m(\u001b[0m\u001b[0;36m15\u001b[0m\u001b[0;34m,\u001b[0m\u001b[0;36m5\u001b[0m\u001b[0;34m)\u001b[0m\u001b[0;34m)\u001b[0m\u001b[0;34m\u001b[0m\u001b[0m\n\u001b[1;32m      3\u001b[0m ax = sns.boxplot(x=\"YEAR\", y=\"CONDITIONS_LUMINEUSES\", \n\u001b[0;32m----> 4\u001b[0;31m                  data=condlum_pvt, order=['Jour', 'Nuit', 'Aurore / crépuscule', 'Inconnu'], palette=palette)\n\u001b[0m\u001b[1;32m      5\u001b[0m \u001b[0mplt\u001b[0m\u001b[0;34m.\u001b[0m\u001b[0mtitle\u001b[0m\u001b[0;34m(\u001b[0m\u001b[0;34m\"Light conditions distribution between accident group\"\u001b[0m\u001b[0;34m,\u001b[0m \u001b[0mfontsize\u001b[0m\u001b[0;34m=\u001b[0m\u001b[0;36m22\u001b[0m\u001b[0;34m)\u001b[0m\u001b[0;34m.\u001b[0m\u001b[0mset_weight\u001b[0m\u001b[0;34m(\u001b[0m\u001b[0;34m'bold'\u001b[0m\u001b[0;34m)\u001b[0m\u001b[0;34m\u001b[0m\u001b[0m\n\u001b[1;32m      6\u001b[0m \u001b[0mtick_format\u001b[0m\u001b[0;34m(\u001b[0m\u001b[0max\u001b[0m\u001b[0;34m,\u001b[0m \u001b[0;36m2\u001b[0m\u001b[0;34m)\u001b[0m\u001b[0;34m\u001b[0m\u001b[0m\n",
      "\u001b[0;31mNameError\u001b[0m: name 'condlum_pvt' is not defined"
     ]
    },
    {
     "data": {
      "text/plain": [
       "<matplotlib.figure.Figure at 0x7f9de6e9d588>"
      ]
     },
     "metadata": {},
     "output_type": "display_data"
    }
   ],
   "source": [
    "# See distribution between the different accident group\n",
    "plt.figure(figsize=(15,5))\n",
    "ax = sns.boxplot(x=\"YEAR\", y=\"CONDITIONS_LUMINEUSES\", \n",
    "                 data=condlum_pvt, order=['Jour', 'Nuit', 'Aurore / crépuscule', 'Inconnu'], palette=palette)\n",
    "plt.title(\"Light conditions distribution between accident group\", fontsize=22).set_weight('bold')\n",
    "tick_format(ax, 2)\n",
    "ax.set(xticks=np.linspace(0,1,num=11))\n",
    "ax.set_ylabel('Light conditions', fontsize=16).set_weight('bold')\n",
    "ax.set_xlabel('Light conditions ratio [%]', fontsize=16).set_weight('bold')"
   ]
  },
  {
   "cell_type": "code",
   "execution_count": 90,
   "metadata": {},
   "outputs": [
    {
     "data": {
      "text/html": [
       "<div>\n",
       "<style>\n",
       "    .dataframe thead tr:only-child th {\n",
       "        text-align: right;\n",
       "    }\n",
       "\n",
       "    .dataframe thead th {\n",
       "        text-align: left;\n",
       "    }\n",
       "\n",
       "    .dataframe tbody tr th {\n",
       "        vertical-align: top;\n",
       "    }\n",
       "</style>\n",
       "<table border=\"1\" class=\"dataframe\">\n",
       "  <thead>\n",
       "    <tr style=\"text-align: right;\">\n",
       "      <th></th>\n",
       "      <th>B_sexe</th>\n",
       "      <th>Age</th>\n",
       "      <th>Groupe</th>\n",
       "      <th>APP</th>\n",
       "      <th>TEST</th>\n",
       "      <th>Delta</th>\n",
       "      <th>retention</th>\n",
       "    </tr>\n",
       "    <tr>\n",
       "      <th>category</th>\n",
       "      <th></th>\n",
       "      <th></th>\n",
       "      <th></th>\n",
       "      <th></th>\n",
       "      <th></th>\n",
       "      <th></th>\n",
       "      <th></th>\n",
       "    </tr>\n",
       "  </thead>\n",
       "  <tbody>\n",
       "    <tr>\n",
       "      <th>0</th>\n",
       "      <td>0.5</td>\n",
       "      <td>22.70</td>\n",
       "      <td>2.0</td>\n",
       "      <td>12.5</td>\n",
       "      <td>11.20</td>\n",
       "      <td>-1.30</td>\n",
       "      <td>90.431259</td>\n",
       "    </tr>\n",
       "    <tr>\n",
       "      <th>1</th>\n",
       "      <td>0.5</td>\n",
       "      <td>21.05</td>\n",
       "      <td>3.0</td>\n",
       "      <td>13.5</td>\n",
       "      <td>11.95</td>\n",
       "      <td>-1.55</td>\n",
       "      <td>88.462805</td>\n",
       "    </tr>\n",
       "  </tbody>\n",
       "</table>\n",
       "</div>"
      ],
      "text/plain": [
       "          B_sexe    Age  Groupe   APP   TEST  Delta  retention\n",
       "category                                                      \n",
       "0            0.5  22.70     2.0  12.5  11.20  -1.30  90.431259\n",
       "1            0.5  21.05     3.0  13.5  11.95  -1.55  88.462805"
      ]
     },
     "metadata": {},
     "output_type": "display_data"
    },
    {
     "data": {
      "text/html": [
       "<div>\n",
       "<style>\n",
       "    .dataframe thead tr:only-child th {\n",
       "        text-align: right;\n",
       "    }\n",
       "\n",
       "    .dataframe thead th {\n",
       "        text-align: left;\n",
       "    }\n",
       "\n",
       "    .dataframe tbody tr th {\n",
       "        vertical-align: top;\n",
       "    }\n",
       "</style>\n",
       "<table border=\"1\" class=\"dataframe\">\n",
       "  <thead>\n",
       "    <tr style=\"text-align: right;\">\n",
       "      <th></th>\n",
       "      <th>B_sexe</th>\n",
       "      <th>Age</th>\n",
       "      <th>Groupe</th>\n",
       "      <th>APP</th>\n",
       "      <th>TEST</th>\n",
       "      <th>Delta</th>\n",
       "      <th>retention</th>\n",
       "    </tr>\n",
       "    <tr>\n",
       "      <th>category</th>\n",
       "      <th></th>\n",
       "      <th></th>\n",
       "      <th></th>\n",
       "      <th></th>\n",
       "      <th></th>\n",
       "      <th></th>\n",
       "      <th></th>\n",
       "    </tr>\n",
       "  </thead>\n",
       "  <tbody>\n",
       "    <tr>\n",
       "      <th>0</th>\n",
       "      <td>0.512989</td>\n",
       "      <td>4.657761</td>\n",
       "      <td>1.025978</td>\n",
       "      <td>2.704772</td>\n",
       "      <td>2.504732</td>\n",
       "      <td>1.592747</td>\n",
       "      <td>13.097209</td>\n",
       "    </tr>\n",
       "    <tr>\n",
       "      <th>1</th>\n",
       "      <td>0.512989</td>\n",
       "      <td>2.064104</td>\n",
       "      <td>1.025978</td>\n",
       "      <td>2.139848</td>\n",
       "      <td>2.799906</td>\n",
       "      <td>2.163696</td>\n",
       "      <td>15.451385</td>\n",
       "    </tr>\n",
       "  </tbody>\n",
       "</table>\n",
       "</div>"
      ],
      "text/plain": [
       "            B_sexe       Age    Groupe       APP      TEST     Delta  \\\n",
       "category                                                               \n",
       "0         0.512989  4.657761  1.025978  2.704772  2.504732  1.592747   \n",
       "1         0.512989  2.064104  1.025978  2.139848  2.799906  2.163696   \n",
       "\n",
       "          retention  \n",
       "category             \n",
       "0         13.097209  \n",
       "1         15.451385  "
      ]
     },
     "metadata": {},
     "output_type": "display_data"
    },
    {
     "data": {
      "text/html": [
       "<div>\n",
       "<style>\n",
       "    .dataframe thead tr:only-child th {\n",
       "        text-align: right;\n",
       "    }\n",
       "\n",
       "    .dataframe thead th {\n",
       "        text-align: left;\n",
       "    }\n",
       "\n",
       "    .dataframe tbody tr th {\n",
       "        vertical-align: top;\n",
       "    }\n",
       "</style>\n",
       "<table border=\"1\" class=\"dataframe\">\n",
       "  <thead>\n",
       "    <tr style=\"text-align: right;\">\n",
       "      <th></th>\n",
       "      <th>B_sexe</th>\n",
       "      <th>Age</th>\n",
       "      <th>APP</th>\n",
       "      <th>TEST</th>\n",
       "      <th>Delta</th>\n",
       "      <th>category</th>\n",
       "      <th>retention</th>\n",
       "    </tr>\n",
       "    <tr>\n",
       "      <th>Groupe</th>\n",
       "      <th></th>\n",
       "      <th></th>\n",
       "      <th></th>\n",
       "      <th></th>\n",
       "      <th></th>\n",
       "      <th></th>\n",
       "      <th></th>\n",
       "    </tr>\n",
       "  </thead>\n",
       "  <tbody>\n",
       "    <tr>\n",
       "      <th>1</th>\n",
       "      <td>0.5</td>\n",
       "      <td>24.6</td>\n",
       "      <td>13.6</td>\n",
       "      <td>12.6</td>\n",
       "      <td>-1.0</td>\n",
       "      <td>0.0</td>\n",
       "      <td>92.465665</td>\n",
       "    </tr>\n",
       "    <tr>\n",
       "      <th>2</th>\n",
       "      <td>0.5</td>\n",
       "      <td>20.9</td>\n",
       "      <td>13.2</td>\n",
       "      <td>11.9</td>\n",
       "      <td>-1.3</td>\n",
       "      <td>1.0</td>\n",
       "      <td>89.660256</td>\n",
       "    </tr>\n",
       "    <tr>\n",
       "      <th>3</th>\n",
       "      <td>0.5</td>\n",
       "      <td>20.8</td>\n",
       "      <td>11.4</td>\n",
       "      <td>9.8</td>\n",
       "      <td>-1.6</td>\n",
       "      <td>0.0</td>\n",
       "      <td>88.396853</td>\n",
       "    </tr>\n",
       "    <tr>\n",
       "      <th>4</th>\n",
       "      <td>0.5</td>\n",
       "      <td>21.2</td>\n",
       "      <td>13.8</td>\n",
       "      <td>12.0</td>\n",
       "      <td>-1.8</td>\n",
       "      <td>1.0</td>\n",
       "      <td>87.265353</td>\n",
       "    </tr>\n",
       "  </tbody>\n",
       "</table>\n",
       "</div>"
      ],
      "text/plain": [
       "        B_sexe   Age   APP  TEST  Delta  category  retention\n",
       "Groupe                                                      \n",
       "1          0.5  24.6  13.6  12.6   -1.0       0.0  92.465665\n",
       "2          0.5  20.9  13.2  11.9   -1.3       1.0  89.660256\n",
       "3          0.5  20.8  11.4   9.8   -1.6       0.0  88.396853\n",
       "4          0.5  21.2  13.8  12.0   -1.8       1.0  87.265353"
      ]
     },
     "metadata": {},
     "output_type": "display_data"
    },
    {
     "data": {
      "text/plain": [
       "array([0, 1])"
      ]
     },
     "execution_count": 90,
     "metadata": {},
     "output_type": "execute_result"
    }
   ],
   "source": [
    "df = raw_res\n",
    "np.mean(df['retention'],axis=0)\n",
    "cat_mean_df = df.groupby(['category']).mean()\n",
    "groupe_mean_df =  df.groupby(['Groupe']).mean()\n",
    "cat_std_df = df.groupby(['category']).std()\n",
    "groupe_std_df =  df.groupby(['Groupe']).std()\n",
    "display( cat_mean_df )\n",
    "display( cat_std_df )\n",
    "display( groupe_mean_df  )\n",
    "cat_mean_df.index.values"
   ]
  },
  {
   "cell_type": "code",
   "execution_count": 89,
   "metadata": {},
   "outputs": [
    {
     "data": {
      "text/plain": [
       "<Container object of 4 artists>"
      ]
     },
     "execution_count": 89,
     "metadata": {},
     "output_type": "execute_result"
    },
    {
     "data": {
      "image/png": "[encoded data removed]",
      "text/plain": [
       "<matplotlib.figure.Figure at 0x7f9de64dee80>"
      ]
     },
     "metadata": {},
     "output_type": "display_data"
    }
   ],
   "source": [
    "def cat_mean_bar_plot():\n",
    "    p = plt.bar(cat_mean_df.index.values,100 - cat_mean_df['retention'].values)\n",
    "    return p\n",
    "def cat_mean_bar_plot():\n",
    "    p = plt.bar(cat_mean_df.index.values,100 - cat_mean_df['retention'].values)\n",
    "    return p\n",
    "\n",
    "fig, axes = plt.subplots(nrows=1, ncols=2)\n",
    "\n",
    "axes[0].set_title('By room')\n",
    "axes[1].set_title('By category')\n",
    "\n",
    "axes[0].bar(cat_mean_df.index.values,100 - cat_mean_df['retention'].values)\n",
    "axes[1].bar(groupe_mean_df.index.values,100 - groupe_mean_df['retention'].values)"
   ]
  },
  {
   "cell_type": "code",
   "execution_count": null,
   "metadata": {
    "collapsed": true
   },
   "outputs": [],
   "source": [
    "salles = ['AA','AB','BA','BB']\n",
    "N = len(salles)\n",
    "pourcentages = mean_percentage\n",
    "menStd = std_percentage\n",
    "ind = np.arange(N)    # the x locations for the groups\n",
    "width = 0.35       # the width of the bars: can also be len(x) sequence\n",
    "\n",
    "p1 = plt.bar(ind, pourcentages, width, yerr=menStd)\n",
    "#p2 = plt.bar(ind, womenMeans, width,\n",
    "#             bottom=menMeans, yerr=womenStd)\n",
    "\n",
    "plt.ylabel('Pourcentage de rétention')\n",
    "plt.title('Pourcentage de rétention par salle')\n",
    "plt.xticks(ind, salles)\n",
    "plt.yticks(np.arange(0, 110, 10))\n",
    "#plt.legend('Men')\n",
    "\n",
    "plt.savefig('Pourcentage de rétention par salle.png')\n",
    "plt.show()"
   ]
  },
  {
   "cell_type": "code",
   "execution_count": 2,
   "metadata": {},
   "outputs": [
    {
     "ename": "ImportError",
     "evalue": "cannot import name 'PyvtTbl'",
     "output_type": "error",
     "traceback": [
      "\u001b[0;31m---------------------------------------------------------------------------\u001b[0m",
      "\u001b[0;31mImportError\u001b[0m                               Traceback (most recent call last)",
      "\u001b[0;32m<ipython-input-2-2d3495fb1ae8>\u001b[0m in \u001b[0;36m<module>\u001b[0;34m()\u001b[0m\n\u001b[1;32m      1\u001b[0m \u001b[0;32mfrom\u001b[0m \u001b[0mnumpy\u001b[0m\u001b[0;34m.\u001b[0m\u001b[0mrandom\u001b[0m \u001b[0;32mimport\u001b[0m \u001b[0mnormal\u001b[0m\u001b[0;34m\u001b[0m\u001b[0m\n\u001b[0;32m----> 2\u001b[0;31m \u001b[0;32mimport\u001b[0m \u001b[0mpyvttbl\u001b[0m \u001b[0;32mas\u001b[0m \u001b[0mpt\u001b[0m\u001b[0;34m\u001b[0m\u001b[0m\n\u001b[0m\u001b[1;32m      3\u001b[0m \u001b[0;32mfrom\u001b[0m \u001b[0mcollections\u001b[0m \u001b[0;32mimport\u001b[0m \u001b[0mnamedtuple\u001b[0m\u001b[0;34m\u001b[0m\u001b[0m\n\u001b[1;32m      4\u001b[0m \u001b[0;34m\u001b[0m\u001b[0m\n\u001b[1;32m      5\u001b[0m \u001b[0mN\u001b[0m \u001b[0;34m=\u001b[0m \u001b[0;36m40\u001b[0m\u001b[0;34m\u001b[0m\u001b[0m\n",
      "\u001b[0;32m~/anaconda3/lib/python3.6/site-packages/pyvttbl/__init__.py\u001b[0m in \u001b[0;36m<module>\u001b[0;34m()\u001b[0m\n\u001b[1;32m      8\u001b[0m \u001b[0;31m# This software is funded in part by NIH Grant P20 RR016454.\u001b[0m\u001b[0;34m\u001b[0m\u001b[0;34m\u001b[0m\u001b[0m\n\u001b[1;32m      9\u001b[0m \u001b[0;34m\u001b[0m\u001b[0m\n\u001b[0;32m---> 10\u001b[0;31m \u001b[0;32mfrom\u001b[0m \u001b[0mbase\u001b[0m \u001b[0;32mimport\u001b[0m \u001b[0mPyvtTbl\u001b[0m\u001b[0;34m,\u001b[0m \u001b[0mDataFrame\u001b[0m\u001b[0;34m\u001b[0m\u001b[0m\n\u001b[0m\u001b[1;32m     11\u001b[0m \u001b[0;34m\u001b[0m\u001b[0m\n\u001b[1;32m     12\u001b[0m \u001b[0;32mfrom\u001b[0m \u001b[0mmisc\u001b[0m \u001b[0;32mimport\u001b[0m \u001b[0;34m*\u001b[0m\u001b[0;34m\u001b[0m\u001b[0m\n",
      "\u001b[0;31mImportError\u001b[0m: cannot import name 'PyvtTbl'"
     ]
    }
   ],
   "source": [
    "from numpy.random import normal\n",
    "import pyvttbl as pt\n",
    "from collections import namedtuple\n",
    " \n",
    "N = 40\n",
    "P = [\"noise\",\"quiet\"]\n",
    "rts = [998,511]\n",
    "mus = rts*N\n",
    " \n",
    "Sub = namedtuple('Sub', ['Sub_id', 'rt','condition'])               \n",
    "df = pt.DataFrame()\n",
    "for subid in xrange(0,N):\n",
    "    for i,condition in enumerate(P):\n",
    "        df.insert(Sub(subid+1,\n",
    "                     normal(mus[i], scale=112., size=1)[0],\n",
    "                           condition)._asdict()"
   ]
  },
  {
   "cell_type": "code",
   "execution_count": null,
   "metadata": {
    "collapsed": true
   },
   "outputs": [],
   "source": [
    "dataframe.anova('dv', sub='id', wfactors=['iv1',      'iv2'])"
   ]
  },
  {
   "cell_type": "code",
   "execution_count": null,
   "metadata": {
    "collapsed": true
   },
   "outputs": [],
   "source": []
  },
  {
   "cell_type": "code",
   "execution_count": 3,
   "metadata": {
    "collapsed": true
   },
   "outputs": [],
   "source": [
    "from statsmodels.stats.anova import anova_lm"
   ]
  },
  {
   "cell_type": "code",
   "execution_count": null,
   "metadata": {
    "collapsed": true
   },
   "outputs": [],
   "source": [
    "anova_lm"
   ]
  },
  {
   "cell_type": "code",
   "execution_count": null,
   "metadata": {
    "collapsed": true
   },
   "outputs": [],
   "source": []
  },
  {
   "cell_type": "code",
   "execution_count": 7,
   "metadata": {},
   "outputs": [
    {
     "data": {
      "text/html": [
       "<div>\n",
       "<style>\n",
       "    .dataframe thead tr:only-child th {\n",
       "        text-align: right;\n",
       "    }\n",
       "\n",
       "    .dataframe thead th {\n",
       "        text-align: left;\n",
       "    }\n",
       "\n",
       "    .dataframe tbody tr th {\n",
       "        vertical-align: top;\n",
       "    }\n",
       "</style>\n",
       "<table border=\"1\" class=\"dataframe\">\n",
       "  <thead>\n",
       "    <tr style=\"text-align: right;\">\n",
       "      <th></th>\n",
       "      <th>Subid</th>\n",
       "      <th>X1</th>\n",
       "      <th>X2</th>\n",
       "      <th>X3</th>\n",
       "      <th>Submean</th>\n",
       "    </tr>\n",
       "  </thead>\n",
       "  <tbody>\n",
       "    <tr>\n",
       "      <th>0</th>\n",
       "      <td>1</td>\n",
       "      <td>6</td>\n",
       "      <td>8</td>\n",
       "      <td>10</td>\n",
       "      <td>8.0</td>\n",
       "    </tr>\n",
       "    <tr>\n",
       "      <th>1</th>\n",
       "      <td>2</td>\n",
       "      <td>4</td>\n",
       "      <td>5</td>\n",
       "      <td>6</td>\n",
       "      <td>5.0</td>\n",
       "    </tr>\n",
       "    <tr>\n",
       "      <th>2</th>\n",
       "      <td>3</td>\n",
       "      <td>5</td>\n",
       "      <td>5</td>\n",
       "      <td>5</td>\n",
       "      <td>5.0</td>\n",
       "    </tr>\n",
       "    <tr>\n",
       "      <th>3</th>\n",
       "      <td>4</td>\n",
       "      <td>1</td>\n",
       "      <td>2</td>\n",
       "      <td>3</td>\n",
       "      <td>2.0</td>\n",
       "    </tr>\n",
       "    <tr>\n",
       "      <th>4</th>\n",
       "      <td>5</td>\n",
       "      <td>0</td>\n",
       "      <td>1</td>\n",
       "      <td>2</td>\n",
       "      <td>1.0</td>\n",
       "    </tr>\n",
       "    <tr>\n",
       "      <th>5</th>\n",
       "      <td>6</td>\n",
       "      <td>2</td>\n",
       "      <td>3</td>\n",
       "      <td>4</td>\n",
       "      <td>3.0</td>\n",
       "    </tr>\n",
       "  </tbody>\n",
       "</table>\n",
       "</div>"
      ],
      "text/plain": [
       "   Subid  X1  X2  X3  Submean\n",
       "0      1   6   8  10      8.0\n",
       "1      2   4   5   6      5.0\n",
       "2      3   5   5   5      5.0\n",
       "3      4   1   2   3      2.0\n",
       "4      5   0   1   2      1.0\n",
       "5      6   2   3   4      3.0"
      ]
     },
     "execution_count": 7,
     "metadata": {},
     "output_type": "execute_result"
    }
   ],
   "source": [
    "import pandas as pd\n",
    "import numpy as np\n",
    "from scipy import stats\n",
    "\n",
    "def calc_grandmean(data, columns):\n",
    "    \"\"\"\n",
    "    Takes a pandas dataframe and calculates the grand mean\n",
    "    data = dataframe\n",
    "    columns = list of column names with the response variables\n",
    "    \"\"\"\n",
    "    gm = np.mean(data[columns].mean())\n",
    "    return gm\n",
    "\n",
    "##For createing example data\n",
    "X1 = [6,4,5,1,0,2]\n",
    "X2 = [8,5,5,2,1,3]\n",
    "X3 = [10,6,5,3,2,4]\n",
    "\n",
    "df = pd.DataFrame({'Subid':range(1, len(X1)+1), \"X1\":X1, \"X2\":X2, \"X3\":X3})\n",
    "\n",
    "#Grand mean\n",
    "grand_mean = calc_grandmean(df, ['X1', 'X2', 'X3'])\n",
    "df['Submean'] = df[['X1', 'X2', 'X3']].mean(axis=1)\n",
    "column_means = df[['X1', 'X2', 'X3']].mean(axis=0)\n",
    "df"
   ]
  },
  {
   "cell_type": "code",
   "execution_count": 9,
   "metadata": {},
   "outputs": [
    {
     "ename": "NameError",
     "evalue": "name 'dfbetween' is not defined",
     "output_type": "error",
     "traceback": [
      "\u001b[0;31m---------------------------------------------------------------------------\u001b[0m",
      "\u001b[0;31mNameError\u001b[0m                                 Traceback (most recent call last)",
      "\u001b[0;32m<ipython-input-9-3663532d16db>\u001b[0m in \u001b[0;36m<module>\u001b[0;34m()\u001b[0m\n\u001b[1;32m     21\u001b[0m \u001b[0;31m######################################################################################\u001b[0m\u001b[0;34m\u001b[0m\u001b[0;34m\u001b[0m\u001b[0m\n\u001b[1;32m     22\u001b[0m \u001b[0;31m#MSbetween\u001b[0m\u001b[0;34m\u001b[0m\u001b[0;34m\u001b[0m\u001b[0m\n\u001b[0;32m---> 23\u001b[0;31m \u001b[0mmsbetween\u001b[0m \u001b[0;34m=\u001b[0m \u001b[0mSSbetween\u001b[0m\u001b[0;34m/\u001b[0m\u001b[0mdfbetween\u001b[0m\u001b[0;34m\u001b[0m\u001b[0m\n\u001b[0m\u001b[1;32m     24\u001b[0m \u001b[0;34m\u001b[0m\u001b[0m\n\u001b[1;32m     25\u001b[0m \u001b[0;31m#MSerror\u001b[0m\u001b[0;34m\u001b[0m\u001b[0;34m\u001b[0m\u001b[0m\n",
      "\u001b[0;31mNameError\u001b[0m: name 'dfbetween' is not defined"
     ]
    }
   ],
   "source": [
    "n = len(df['Subid'])\n",
    "k = len(['X1', 'X2', 'X3'])\n",
    "#Degree of Freedom\n",
    "ncells = df[['X1','X2','X3']].size\n",
    "\n",
    "dftotal = ncells - 1\n",
    "dfbw = 3 - 1\n",
    "dfsbj = len(df['Subid']) - 1\n",
    "dfw = dftotal - dfbw\n",
    "dferror = dfw - dfsbj\n",
    "######################################################################################\n",
    "               \n",
    "               \n",
    "               \n",
    "SSbetween = sum(n*[(m - grand_mean)**2 for m in column_means])\n",
    "SSwithin = sum(sum([(df[col] - column_means[i])**2 for i,\n",
    "              col in enumerate(df[['X1', 'X2', 'X3']])]))\n",
    "SSsubject = sum(k*[(m -grand_mean)**2 for m in df['Submean']])\n",
    "SSerror = SSbetween + SSwithin\n",
    "#SSwithin - SSsubjectSStotal = SSbetween + SSwithin\n",
    "######################################################################################\n",
    "#MSbetween\n",
    "msbetween = SSbetween/dfbetween\n",
    "\n",
    "#MSerror\n",
    "mserror = SSerror/dferror\n",
    "\n",
    "#F-statistic\n",
    "F = msbetween/mserror\n",
    "\n",
    "               \n",
    "alpha = 0.05\n",
    "\n",
    "p_value = stats.f.sf(F, 2, dferror)"
   ]
  },
  {
   "cell_type": "code",
   "execution_count": null,
   "metadata": {
    "collapsed": true
   },
   "outputs": [],
   "source": []
  }
 ],
 "metadata": {
  "kernelspec": {
   "display_name": "Python 3",
   "language": "python",
   "name": "python3"
  },
  "language_info": {
   "codemirror_mode": {
    "name": "ipython",
    "version": 3
   },
   "file_extension": ".py",
   "mimetype": "text/x-python",
   "name": "python",
   "nbconvert_exporter": "python",
   "pygments_lexer": "ipython3",
   "version": "3.6.3"
  }
 },
 "nbformat": 4,
 "nbformat_minor": 2
}
