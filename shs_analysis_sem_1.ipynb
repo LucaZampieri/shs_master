{
 "cells": [
  {
   "cell_type": "markdown",
   "metadata": {},
   "source": [
    "# Processing of the data collected for an SHS project of EPFL\n"
   ]
  },
  {
   "cell_type": "code",
   "execution_count": 1,
   "metadata": {
    "collapsed": true
   },
   "outputs": [],
   "source": [
    "import csv\n",
    "import pandas as pd\n",
    "import numpy as np\n",
    "import matplotlib.pyplot as plt\n",
    "%matplotlib inline  "
   ]
  },
  {
   "cell_type": "markdown",
   "metadata": {},
   "source": [
    "### Extration of data:\n",
    "\n",
    "Please select the rigt dataset"
   ]
  },
  {
   "cell_type": "code",
   "execution_count": 123,
   "metadata": {
    "scrolled": true
   },
   "outputs": [
    {
     "data": {
      "text/html": [
       "<div>\n",
       "<style>\n",
       "    .dataframe thead tr:only-child th {\n",
       "        text-align: right;\n",
       "    }\n",
       "\n",
       "    .dataframe thead th {\n",
       "        text-align: left;\n",
       "    }\n",
       "\n",
       "    .dataframe tbody tr th {\n",
       "        vertical-align: top;\n",
       "    }\n",
       "</style>\n",
       "<table border=\"1\" class=\"dataframe\">\n",
       "  <thead>\n",
       "    <tr style=\"text-align: right;\">\n",
       "      <th></th>\n",
       "      <th>Lieux (A=salle, B=bureau)</th>\n",
       "      <th>Participant</th>\n",
       "      <th>Sexe</th>\n",
       "      <th>Age</th>\n",
       "      <th>Groupe</th>\n",
       "      <th>Nbre essais</th>\n",
       "      <th>Essai 1</th>\n",
       "      <th>Essai 2</th>\n",
       "      <th>CRI APP</th>\n",
       "      <th>TEST</th>\n",
       "      <th>Delta</th>\n",
       "    </tr>\n",
       "  </thead>\n",
       "  <tbody>\n",
       "    <tr>\n",
       "      <th>0</th>\n",
       "      <td>AA</td>\n",
       "      <td>G1/1</td>\n",
       "      <td>F</td>\n",
       "      <td>19.0</td>\n",
       "      <td>1</td>\n",
       "      <td>1</td>\n",
       "      <td>17</td>\n",
       "      <td>NaN</td>\n",
       "      <td>17</td>\n",
       "      <td>15</td>\n",
       "      <td>-2</td>\n",
       "    </tr>\n",
       "    <tr>\n",
       "      <th>1</th>\n",
       "      <td>AA</td>\n",
       "      <td>G1/2</td>\n",
       "      <td>F</td>\n",
       "      <td>26.0</td>\n",
       "      <td>1</td>\n",
       "      <td>1</td>\n",
       "      <td>15</td>\n",
       "      <td>NaN</td>\n",
       "      <td>15</td>\n",
       "      <td>13</td>\n",
       "      <td>-2</td>\n",
       "    </tr>\n",
       "    <tr>\n",
       "      <th>2</th>\n",
       "      <td>AA</td>\n",
       "      <td>G1/3</td>\n",
       "      <td>F</td>\n",
       "      <td>20.0</td>\n",
       "      <td>1</td>\n",
       "      <td>2</td>\n",
       "      <td>14</td>\n",
       "      <td>16.0</td>\n",
       "      <td>16</td>\n",
       "      <td>14</td>\n",
       "      <td>-2</td>\n",
       "    </tr>\n",
       "    <tr>\n",
       "      <th>3</th>\n",
       "      <td>AA</td>\n",
       "      <td>G1/4</td>\n",
       "      <td>H</td>\n",
       "      <td>20.0</td>\n",
       "      <td>1</td>\n",
       "      <td>1</td>\n",
       "      <td>16</td>\n",
       "      <td>NaN</td>\n",
       "      <td>16</td>\n",
       "      <td>16</td>\n",
       "      <td>0</td>\n",
       "    </tr>\n",
       "    <tr>\n",
       "      <th>4</th>\n",
       "      <td>AA</td>\n",
       "      <td>G1/5</td>\n",
       "      <td>H</td>\n",
       "      <td>19.0</td>\n",
       "      <td>1</td>\n",
       "      <td>2</td>\n",
       "      <td>12</td>\n",
       "      <td>13.0</td>\n",
       "      <td>13</td>\n",
       "      <td>14</td>\n",
       "      <td>1</td>\n",
       "    </tr>\n",
       "    <tr>\n",
       "      <th>5</th>\n",
       "      <td>AA</td>\n",
       "      <td>G1/6</td>\n",
       "      <td>H</td>\n",
       "      <td>21.0</td>\n",
       "      <td>1</td>\n",
       "      <td>2</td>\n",
       "      <td>14</td>\n",
       "      <td>16.0</td>\n",
       "      <td>16</td>\n",
       "      <td>17</td>\n",
       "      <td>1</td>\n",
       "    </tr>\n",
       "    <tr>\n",
       "      <th>6</th>\n",
       "      <td>AB</td>\n",
       "      <td>G2/1</td>\n",
       "      <td>H</td>\n",
       "      <td>25.0</td>\n",
       "      <td>2</td>\n",
       "      <td>2</td>\n",
       "      <td>12</td>\n",
       "      <td>18.0</td>\n",
       "      <td>18</td>\n",
       "      <td>17</td>\n",
       "      <td>-1</td>\n",
       "    </tr>\n",
       "    <tr>\n",
       "      <th>7</th>\n",
       "      <td>AB</td>\n",
       "      <td>G2/2</td>\n",
       "      <td>H</td>\n",
       "      <td>20.0</td>\n",
       "      <td>2</td>\n",
       "      <td>2</td>\n",
       "      <td>13</td>\n",
       "      <td>16.0</td>\n",
       "      <td>16</td>\n",
       "      <td>17</td>\n",
       "      <td>1</td>\n",
       "    </tr>\n",
       "    <tr>\n",
       "      <th>8</th>\n",
       "      <td>AB</td>\n",
       "      <td>G2/3</td>\n",
       "      <td>F</td>\n",
       "      <td>27.0</td>\n",
       "      <td>2</td>\n",
       "      <td>1</td>\n",
       "      <td>16</td>\n",
       "      <td>NaN</td>\n",
       "      <td>16</td>\n",
       "      <td>14</td>\n",
       "      <td>-2</td>\n",
       "    </tr>\n",
       "    <tr>\n",
       "      <th>9</th>\n",
       "      <td>AB</td>\n",
       "      <td>G2/4</td>\n",
       "      <td>H</td>\n",
       "      <td>22.0</td>\n",
       "      <td>2</td>\n",
       "      <td>2</td>\n",
       "      <td>10</td>\n",
       "      <td>13.0</td>\n",
       "      <td>13</td>\n",
       "      <td>12</td>\n",
       "      <td>-1</td>\n",
       "    </tr>\n",
       "    <tr>\n",
       "      <th>10</th>\n",
       "      <td>AB</td>\n",
       "      <td>G2/5</td>\n",
       "      <td>F</td>\n",
       "      <td>21.0</td>\n",
       "      <td>2</td>\n",
       "      <td>2</td>\n",
       "      <td>12</td>\n",
       "      <td>14.0</td>\n",
       "      <td>14</td>\n",
       "      <td>12</td>\n",
       "      <td>-2</td>\n",
       "    </tr>\n",
       "    <tr>\n",
       "      <th>11</th>\n",
       "      <td>AB</td>\n",
       "      <td>G2/6</td>\n",
       "      <td>F</td>\n",
       "      <td>18.0</td>\n",
       "      <td>2</td>\n",
       "      <td>1</td>\n",
       "      <td>15</td>\n",
       "      <td>NaN</td>\n",
       "      <td>15</td>\n",
       "      <td>16</td>\n",
       "      <td>1</td>\n",
       "    </tr>\n",
       "    <tr>\n",
       "      <th>12</th>\n",
       "      <td>BB</td>\n",
       "      <td>G3/1</td>\n",
       "      <td>F</td>\n",
       "      <td>20.0</td>\n",
       "      <td>3</td>\n",
       "      <td>2</td>\n",
       "      <td>11</td>\n",
       "      <td>18.0</td>\n",
       "      <td>18</td>\n",
       "      <td>12</td>\n",
       "      <td>-6</td>\n",
       "    </tr>\n",
       "    <tr>\n",
       "      <th>13</th>\n",
       "      <td>BB</td>\n",
       "      <td>G3/2</td>\n",
       "      <td>F</td>\n",
       "      <td>19.0</td>\n",
       "      <td>3</td>\n",
       "      <td>2</td>\n",
       "      <td>13</td>\n",
       "      <td>17.0</td>\n",
       "      <td>17</td>\n",
       "      <td>16</td>\n",
       "      <td>-1</td>\n",
       "    </tr>\n",
       "    <tr>\n",
       "      <th>14</th>\n",
       "      <td>BB</td>\n",
       "      <td>G3/3</td>\n",
       "      <td>H</td>\n",
       "      <td>20.0</td>\n",
       "      <td>3</td>\n",
       "      <td>1</td>\n",
       "      <td>14</td>\n",
       "      <td>NaN</td>\n",
       "      <td>14</td>\n",
       "      <td>13</td>\n",
       "      <td>-1</td>\n",
       "    </tr>\n",
       "    <tr>\n",
       "      <th>15</th>\n",
       "      <td>BB</td>\n",
       "      <td>G3/4</td>\n",
       "      <td>H</td>\n",
       "      <td>20.0</td>\n",
       "      <td>3</td>\n",
       "      <td>2</td>\n",
       "      <td>9</td>\n",
       "      <td>15.0</td>\n",
       "      <td>15</td>\n",
       "      <td>11</td>\n",
       "      <td>-4</td>\n",
       "    </tr>\n",
       "    <tr>\n",
       "      <th>16</th>\n",
       "      <td>BB</td>\n",
       "      <td>G3/5</td>\n",
       "      <td>H</td>\n",
       "      <td>19.0</td>\n",
       "      <td>3</td>\n",
       "      <td>1</td>\n",
       "      <td>15</td>\n",
       "      <td>NaN</td>\n",
       "      <td>15</td>\n",
       "      <td>11</td>\n",
       "      <td>-4</td>\n",
       "    </tr>\n",
       "    <tr>\n",
       "      <th>17</th>\n",
       "      <td>BB</td>\n",
       "      <td>G3/6</td>\n",
       "      <td>F</td>\n",
       "      <td>21.0</td>\n",
       "      <td>3</td>\n",
       "      <td>1</td>\n",
       "      <td>15</td>\n",
       "      <td>NaN</td>\n",
       "      <td>15</td>\n",
       "      <td>16</td>\n",
       "      <td>1</td>\n",
       "    </tr>\n",
       "    <tr>\n",
       "      <th>18</th>\n",
       "      <td>BA</td>\n",
       "      <td>G4/1</td>\n",
       "      <td>F</td>\n",
       "      <td>19.0</td>\n",
       "      <td>4</td>\n",
       "      <td>1</td>\n",
       "      <td>15</td>\n",
       "      <td>NaN</td>\n",
       "      <td>15</td>\n",
       "      <td>11</td>\n",
       "      <td>-4</td>\n",
       "    </tr>\n",
       "    <tr>\n",
       "      <th>19</th>\n",
       "      <td>BA</td>\n",
       "      <td>G4/2</td>\n",
       "      <td>F</td>\n",
       "      <td>20.0</td>\n",
       "      <td>4</td>\n",
       "      <td>1</td>\n",
       "      <td>15</td>\n",
       "      <td>NaN</td>\n",
       "      <td>15</td>\n",
       "      <td>11</td>\n",
       "      <td>-4</td>\n",
       "    </tr>\n",
       "  </tbody>\n",
       "</table>\n",
       "</div>"
      ],
      "text/plain": [
       "   Lieux (A=salle, B=bureau) Participant Sexe   Age  Groupe  Nbre essais  \\\n",
       "0                         AA        G1/1    F  19.0       1            1   \n",
       "1                         AA        G1/2    F  26.0       1            1   \n",
       "2                         AA        G1/3    F  20.0       1            2   \n",
       "3                         AA        G1/4    H  20.0       1            1   \n",
       "4                         AA        G1/5    H  19.0       1            2   \n",
       "5                         AA        G1/6    H  21.0       1            2   \n",
       "6                         AB        G2/1    H  25.0       2            2   \n",
       "7                         AB        G2/2    H  20.0       2            2   \n",
       "8                         AB        G2/3    F  27.0       2            1   \n",
       "9                         AB        G2/4    H  22.0       2            2   \n",
       "10                        AB        G2/5    F  21.0       2            2   \n",
       "11                        AB        G2/6    F  18.0       2            1   \n",
       "12                        BB        G3/1    F  20.0       3            2   \n",
       "13                        BB        G3/2    F  19.0       3            2   \n",
       "14                        BB        G3/3    H  20.0       3            1   \n",
       "15                        BB        G3/4    H  20.0       3            2   \n",
       "16                        BB        G3/5    H  19.0       3            1   \n",
       "17                        BB        G3/6    F  21.0       3            1   \n",
       "18                        BA        G4/1    F  19.0       4            1   \n",
       "19                        BA        G4/2    F  20.0       4            1   \n",
       "\n",
       "    Essai 1  Essai 2  CRI APP  TEST  Delta  \n",
       "0        17      NaN       17    15     -2  \n",
       "1        15      NaN       15    13     -2  \n",
       "2        14     16.0       16    14     -2  \n",
       "3        16      NaN       16    16      0  \n",
       "4        12     13.0       13    14      1  \n",
       "5        14     16.0       16    17      1  \n",
       "6        12     18.0       18    17     -1  \n",
       "7        13     16.0       16    17      1  \n",
       "8        16      NaN       16    14     -2  \n",
       "9        10     13.0       13    12     -1  \n",
       "10       12     14.0       14    12     -2  \n",
       "11       15      NaN       15    16      1  \n",
       "12       11     18.0       18    12     -6  \n",
       "13       13     17.0       17    16     -1  \n",
       "14       14      NaN       14    13     -1  \n",
       "15        9     15.0       15    11     -4  \n",
       "16       15      NaN       15    11     -4  \n",
       "17       15      NaN       15    16      1  \n",
       "18       15      NaN       15    11     -4  \n",
       "19       15      NaN       15    11     -4  "
      ]
     },
     "execution_count": 123,
     "metadata": {},
     "output_type": "execute_result"
    }
   ],
   "source": [
    "file_code = 1\n",
    "\n",
    "if file_code ==1:\n",
    "    resultats = pd.read_csv('Resultats.csv' , engine='python')\n",
    "elif file_code == 2:\n",
    "    resultats = pd.read_csv('resultat_un_seul_passage.csv' , engine='python')\n",
    "elif file_code == 3:\n",
    "    resultats = pd.read_csv('resultat_un_seul_passage_final.csv' , engine='python')\n",
    "    resultats.columns = ['Lieux (A=salle, B=bureau)', 'Participant', 'Sexe', 'Age', 'Groupe',\n",
    "        'Nbre essais', 'CRI APP', 'TEST', 'Delta']\n",
    "else:\n",
    "    print('Please select a valid file_code!')\n",
    "resultats.head(20)"
   ]
  },
  {
   "cell_type": "markdown",
   "metadata": {},
   "source": [
    "### Parameters:"
   ]
  },
  {
   "cell_type": "code",
   "execution_count": 124,
   "metadata": {
    "collapsed": true
   },
   "outputs": [],
   "source": [
    "salles = ['AA','AB','BA','BB']"
   ]
  },
  {
   "cell_type": "markdown",
   "metadata": {},
   "source": [
    "### some functions that we will use later in the analysis:"
   ]
  },
  {
   "cell_type": "code",
   "execution_count": 125,
   "metadata": {
    "collapsed": true
   },
   "outputs": [],
   "source": [
    "def mean(filter_col,col='TEST'):\n",
    "    return pd.DataFrame(resultats.groupby(by=filter_col).mean()[col])\n",
    "\n",
    "def std(filter_col,col='TEST'):\n",
    "    return pd.DataFrame(resultats.groupby(by=filter_col).std()[col])\n",
    "\n",
    "def test_mean(col):\n",
    "    count = resultats.groupby(by=col).count()\n",
    "    sum_ = resultats.groupby(by=col).sum()\n",
    "    return sum_/count\n",
    "\n",
    "def test_mean_double(col1,col2):\n",
    "    count = resultats.groupby(by=[col1,col2]).count()\n",
    "    sum_ = resultats.groupby(by=[col1,col2]).sum()\n",
    "    return sum_/count"
   ]
  },
  {
   "cell_type": "markdown",
   "metadata": {},
   "source": [
    "Here is the mean per context"
   ]
  },
  {
   "cell_type": "code",
   "execution_count": 126,
   "metadata": {},
   "outputs": [
    {
     "data": {
      "text/html": [
       "<div>\n",
       "<style>\n",
       "    .dataframe thead tr:only-child th {\n",
       "        text-align: right;\n",
       "    }\n",
       "\n",
       "    .dataframe thead th {\n",
       "        text-align: left;\n",
       "    }\n",
       "\n",
       "    .dataframe tbody tr th {\n",
       "        vertical-align: top;\n",
       "    }\n",
       "</style>\n",
       "<table border=\"1\" class=\"dataframe\">\n",
       "  <thead>\n",
       "    <tr style=\"text-align: right;\">\n",
       "      <th></th>\n",
       "      <th></th>\n",
       "      <th>TEST</th>\n",
       "    </tr>\n",
       "    <tr>\n",
       "      <th>Lieux (A=salle, B=bureau)</th>\n",
       "      <th>Nbre essais</th>\n",
       "      <th></th>\n",
       "    </tr>\n",
       "  </thead>\n",
       "  <tbody>\n",
       "    <tr>\n",
       "      <th rowspan=\"2\" valign=\"top\">AA</th>\n",
       "      <th>1</th>\n",
       "      <td>14.666667</td>\n",
       "    </tr>\n",
       "    <tr>\n",
       "      <th>2</th>\n",
       "      <td>15.000000</td>\n",
       "    </tr>\n",
       "    <tr>\n",
       "      <th rowspan=\"2\" valign=\"top\">AB</th>\n",
       "      <th>1</th>\n",
       "      <td>15.000000</td>\n",
       "    </tr>\n",
       "    <tr>\n",
       "      <th>2</th>\n",
       "      <td>14.500000</td>\n",
       "    </tr>\n",
       "    <tr>\n",
       "      <th rowspan=\"2\" valign=\"top\">BA</th>\n",
       "      <th>1</th>\n",
       "      <td>12.250000</td>\n",
       "    </tr>\n",
       "    <tr>\n",
       "      <th>2</th>\n",
       "      <td>15.000000</td>\n",
       "    </tr>\n",
       "    <tr>\n",
       "      <th rowspan=\"2\" valign=\"top\">BB</th>\n",
       "      <th>1</th>\n",
       "      <td>13.333333</td>\n",
       "    </tr>\n",
       "    <tr>\n",
       "      <th>2</th>\n",
       "      <td>13.000000</td>\n",
       "    </tr>\n",
       "  </tbody>\n",
       "</table>\n",
       "</div>"
      ],
      "text/plain": [
       "                                            TEST\n",
       "Lieux (A=salle, B=bureau) Nbre essais           \n",
       "AA                        1            14.666667\n",
       "                          2            15.000000\n",
       "AB                        1            15.000000\n",
       "                          2            14.500000\n",
       "BA                        1            12.250000\n",
       "                          2            15.000000\n",
       "BB                        1            13.333333\n",
       "                          2            13.000000"
      ]
     },
     "execution_count": 126,
     "metadata": {},
     "output_type": "execute_result"
    }
   ],
   "source": [
    "col='Lieux (A=salle, B=bureau)'\n",
    "test_mean(col)\n",
    "#test_mean_double(col1='Lieux (A=salle, B=bureau)',col2='Sexe')\n",
    "mean(['Lieux (A=salle, B=bureau)','Nbre essais'])"
   ]
  },
  {
   "cell_type": "markdown",
   "metadata": {},
   "source": [
    "### compute the retention percentage of each context"
   ]
  },
  {
   "cell_type": "code",
   "execution_count": 127,
   "metadata": {},
   "outputs": [
    {
     "name": "stdout",
     "output_type": "stream",
     "text": [
      "mean pourcentage d\"oubli in salle: AA      96.0573780794369  % and std:   9.771433612916335\n",
      "mean pourcentage d\"oubli in salle: AB      95.48051485551485  % and std:   9.069949243895191\n",
      "mean pourcentage d\"oubli in salle: BA      83.08415032679738  % and std:   11.72677111858226\n",
      "mean pourcentage d\"oubli in salle: BB      84.49579831932773  % and std:   15.627659092364706\n",
      "Same:  90.27658819938232    With mean std:   12.699546352640521\n",
      "Different:  89.28233259115612    With mean std:   10.398360181238726\n"
     ]
    }
   ],
   "source": [
    "def compute_precentage_mean(salle,apprentissage_col = 'CRI APP', test_col = 'TEST'):\n",
    "    \"\"\"Percentage computed tested divided by learned\"\"\"\n",
    "    test = resultats[test_col][resultats['Lieux (A=salle, B=bureau)']==salle]\n",
    "    appr = resultats[apprentissage_col][resultats['Lieux (A=salle, B=bureau)']==salle]\n",
    "    percentage = test/appr*100\n",
    "    return percentage.mean(), percentage.std()\n",
    "\n",
    "mean_percentage = []\n",
    "std_percentage = []\n",
    "for x in salles:\n",
    "    tmp, std_ = compute_precentage_mean(x)\n",
    "    mean_percentage.append(tmp)\n",
    "    std_percentage.append(std_)\n",
    "    print('mean pourcentage d\"oubli in salle:',x,'    ',tmp,' % and std:  ',std_)\n",
    "print('Same: ',(mean_percentage[0]+mean_percentage[3])/2, '   With mean std:  ', (std_percentage[0]+std_percentage[3])/2)\n",
    "print('Different: ',(mean_percentage[1]+mean_percentage[2])/2, '   With mean std:  ', (std_percentage[1]+std_percentage[2])/2)"
   ]
  },
  {
   "cell_type": "code",
   "execution_count": 130,
   "metadata": {},
   "outputs": [
    {
     "name": "stdout",
     "output_type": "stream",
     "text": [
      "-1.0 -1.0 -2.5 -2.5\n"
     ]
    }
   ],
   "source": [
    "aa = np.median(resultats['Delta'][resultats['Lieux (A=salle, B=bureau)']=='AA'])\n",
    "ab = np.median(resultats['Delta'][resultats['Lieux (A=salle, B=bureau)']=='AB'])\n",
    "ba = np.median(resultats['Delta'][resultats['Lieux (A=salle, B=bureau)']=='BA'])\n",
    "bb = np.median(resultats['Delta'][resultats['Lieux (A=salle, B=bureau)']=='BB'])\n",
    "print(aa,ab,ba,bb)"
   ]
  },
  {
   "cell_type": "markdown",
   "metadata": {},
   "source": [
    "### Scatter plots of the data by salle and sexe & age to visualize the data"
   ]
  },
  {
   "cell_type": "code",
   "execution_count": 131,
   "metadata": {
    "scrolled": false
   },
   "outputs": [
    {
     "data": {
      "text/plain": [
       "<matplotlib.collections.PathCollection at 0x7fbd122599b0>"
      ]
     },
     "execution_count": 131,
     "metadata": {},
     "output_type": "execute_result"
    },
    {
     "data": {
      "image/png": "[encoded data removed]",
      "text/plain": [
       "<matplotlib.figure.Figure at 0x7fbd124515c0>"
      ]
     },
     "metadata": {},
     "output_type": "display_data"
    }
   ],
   "source": [
    "def scatter_plot_by_salle(col_x,col_y):\n",
    "    salles = ['AA','BB','AB','BA']\n",
    "    for salle in salles:\n",
    "        x = resultats[col_x][resultats['Lieux (A=salle, B=bureau)']==salle]\n",
    "        y = resultats[col_y][(resultats['Lieux (A=salle, B=bureau)']==salle)]\n",
    "        p = plt.scatter(x, y)\n",
    "    return p\n",
    "  \n",
    "scatter_plot_by_salle(col_x='CRI APP',col_y='TEST')"
   ]
  },
  {
   "cell_type": "code",
   "execution_count": 132,
   "metadata": {},
   "outputs": [
    {
     "name": "stdout",
     "output_type": "stream",
     "text": [
      "By sexe:  Delta  as a function of  Age\n"
     ]
    },
    {
     "data": {
      "text/plain": [
       "<matplotlib.collections.PathCollection at 0x7fbd118c16a0>"
      ]
     },
     "execution_count": 132,
     "metadata": {},
     "output_type": "execute_result"
    },
    {
     "data": {
      "image/png": "[encoded data removed]",
      "text/plain": [
       "<matplotlib.figure.Figure at 0x7fbd121c0208>"
      ]
     },
     "metadata": {},
     "output_type": "display_data"
    }
   ],
   "source": [
    "def scatter_plot_by_sex(col_x,col_y):\n",
    "    sexes = ['F','H']\n",
    "    print('By sexe: ', str(col_y),' as a function of ', str(col_x))\n",
    "    for sex in sexes:\n",
    "        x = resultats[col_x][resultats['Sexe']==sex]\n",
    "        y = resultats[col_y][(resultats['Sexe']==sex)]\n",
    "        p = plt.scatter(x, y)\n",
    "    return p\n",
    "#scatter_plot_by_sex(col_x='CRI APP',col_y='TEST')\n",
    "scatter_plot_by_sex(col_x='Age',col_y='Delta')"
   ]
  },
  {
   "cell_type": "code",
   "execution_count": 133,
   "metadata": {
    "collapsed": true
   },
   "outputs": [],
   "source": [
    "def mean(filter_col,col='TEST'):\n",
    "    return pd.DataFrame(resultats.groupby(by=filter_col).mean()[col])\n",
    "df = mean(filter_col=['Lieux (A=salle, B=bureau)','Sexe'],col='Delta')\n",
    "#df.loc[(df.index.get_level_values('A') > 1.7) & (df.index.get_level_values('B') < 666)]\n",
    "women_means = df.loc[(df.index.get_level_values('Sexe') == 'F')].Delta\n",
    "men_means = df.loc[(df.index.get_level_values('Sexe') == 'H')].Delta\n"
   ]
  },
  {
   "cell_type": "code",
   "execution_count": 134,
   "metadata": {
    "collapsed": true
   },
   "outputs": [],
   "source": [
    "def std(filter_col,col='TEST'):\n",
    "    return pd.DataFrame(resultats.groupby(by=filter_col).std()[col])\n",
    "df = std(filter_col=['Lieux (A=salle, B=bureau)','Sexe'],col='Delta')\n",
    "women_std = df.loc[(df.index.get_level_values('Sexe') == 'F')].Delta\n",
    "men_std = df.loc[(df.index.get_level_values('Sexe') == 'H')].Delta"
   ]
  },
  {
   "cell_type": "code",
   "execution_count": 135,
   "metadata": {},
   "outputs": [
    {
     "data": {
      "image/png": "[encoded data removed]",
      "text/plain": [
       "<matplotlib.figure.Figure at 0x7fbd1190e400>"
      ]
     },
     "metadata": {},
     "output_type": "display_data"
    }
   ],
   "source": [
    "salles = ['AA','AB','BA','BB']\n",
    "N = len(salles)\n",
    "menMeans = list(men_means)\n",
    "womenMeans = list(women_means)\n",
    "menStd = list(men_std)\n",
    "womenStd = list(women_std)\n",
    "ind = np.arange(N)    # the x locations for the groups\n",
    "width = 0.35       # the width of the bars: can also be len(x) sequence\n",
    "\n",
    "p1 = plt.bar(ind, menMeans, width, yerr=menStd)\n",
    "p2 = plt.bar(ind, womenMeans, width,\n",
    "             bottom=menMeans, yerr=womenStd)\n",
    "\n",
    "plt.ylabel('Mean test score')\n",
    "plt.title('Mean by group and gender')\n",
    "plt.xticks(ind, salles)\n",
    "plt.yticks(np.arange(0, 40, 5))\n",
    "plt.legend((p1[0], p2[0]), ('Men', 'Women'))\n",
    "\n",
    "plt.show()"
   ]
  },
  {
   "cell_type": "code",
   "execution_count": 136,
   "metadata": {},
   "outputs": [
    {
     "data": {
      "image/png": "[encoded data removed]",
      "text/plain": [
       "<matplotlib.figure.Figure at 0x7fbd1190ef98>"
      ]
     },
     "metadata": {},
     "output_type": "display_data"
    }
   ],
   "source": [
    "df = mean(filter_col=['Lieux (A=salle, B=bureau)','Sexe'],col='Delta')\n",
    "#df.loc[(df.index.get_level_values('A') > 1.7) & (df.index.get_level_values('B') < 666)]\n",
    "women_means = df.loc[(df.index.get_level_values('Sexe') == 'F')].Delta\n",
    "men_means = df.loc[(df.index.get_level_values('Sexe') == 'H')].Delta\n",
    "\n",
    "df = std(filter_col=['Lieux (A=salle, B=bureau)','Sexe'],col='Delta')\n",
    "women_std = df.loc[(df.index.get_level_values('Sexe') == 'F')].Delta\n",
    "men_std = df.loc[(df.index.get_level_values('Sexe') == 'H')].Delta\n",
    "\n",
    "salles = ['AA','AB','BA','BB']\n",
    "N = len(salles)\n",
    "menMeans = list(men_means.abs())\n",
    "womenMeans = list(women_means.abs())\n",
    "menStd = list(men_std)\n",
    "womenStd = list(women_std)\n",
    "ind = np.arange(N)    # the x locations for the groups\n",
    "width = 0.35       # the width of the bars: can also be len(x) sequence\n",
    "\n",
    "p1 = plt.bar(ind, menMeans, width, yerr=menStd)\n",
    "p2 = plt.bar(ind, womenMeans, width,\n",
    "             bottom=menMeans, yerr=womenStd)\n",
    "\n",
    "plt.ylabel('Delta')\n",
    "plt.title('Delta moyen par salle et sexe')\n",
    "plt.xticks(ind, salles)\n",
    "plt.yticks(np.arange(0, 9, 1))\n",
    "plt.legend((p1[0], p2[0]), ('Men', 'Women'))\n",
    "\n",
    "plt.savefig('Delta moyen par sex.png')\n",
    "plt.show()"
   ]
  },
  {
   "cell_type": "code",
   "execution_count": 137,
   "metadata": {},
   "outputs": [
    {
     "data": {
      "image/png": "[encoded data removed]",
      "text/plain": [
       "<matplotlib.figure.Figure at 0x7fbd1199de80>"
      ]
     },
     "metadata": {},
     "output_type": "display_data"
    }
   ],
   "source": [
    "salles = ['AA','AB','BA','BB']\n",
    "N = len(salles)\n",
    "pourcentages = mean_percentage\n",
    "menStd = std_percentage\n",
    "ind = np.arange(N)    # the x locations for the groups\n",
    "width = 0.35       # the width of the bars: can also be len(x) sequence\n",
    "\n",
    "p1 = plt.bar(ind, pourcentages, width, yerr=menStd)\n",
    "#p2 = plt.bar(ind, womenMeans, width,\n",
    "#             bottom=menMeans, yerr=womenStd)\n",
    "\n",
    "plt.ylabel('Pourcentage de rétention')\n",
    "plt.title('Pourcentage de rétention par salle')\n",
    "plt.xticks(ind, salles)\n",
    "plt.yticks(np.arange(0, 110, 10))\n",
    "#plt.legend('Men')\n",
    "\n",
    "plt.savefig('Pourcentage de rétention par salle.png')\n",
    "plt.show()"
   ]
  },
  {
   "cell_type": "markdown",
   "metadata": {},
   "source": [
    "### Delta moyen par sexe et salle:"
   ]
  },
  {
   "cell_type": "code",
   "execution_count": 140,
   "metadata": {},
   "outputs": [
    {
     "data": {
      "image/png": "[encoded data removed]",
      "text/plain": [
       "<matplotlib.figure.Figure at 0x7fbd123245f8>"
      ]
     },
     "metadata": {},
     "output_type": "display_data"
    }
   ],
   "source": [
    "import numpy as np\n",
    "import matplotlib.pyplot as plt\n",
    "\n",
    "df = mean(filter_col=['Lieux (A=salle, B=bureau)','Sexe'],col='Delta')\n",
    "#df.loc[(df.index.get_level_values('A') > 1.7) & (df.index.get_level_values('B') < 666)]\n",
    "women_means = df.loc[(df.index.get_level_values('Sexe') == 'F')].Delta\n",
    "men_means = df.loc[(df.index.get_level_values('Sexe') == 'H')].Delta\n",
    "\n",
    "df = std(filter_col=['Lieux (A=salle, B=bureau)','Sexe'],col='Delta')\n",
    "women_std = df.loc[(df.index.get_level_values('Sexe') == 'F')].Delta\n",
    "men_std = df.loc[(df.index.get_level_values('Sexe') == 'H')].Delta\n",
    "\n",
    "\n",
    "salles = ['AA','AB','BA','BB']\n",
    "N = len(salles)\n",
    "ind = np.arange(N)  \n",
    "menMeans = list(men_means.abs())\n",
    "womenMeans = list(women_means.abs())\n",
    "menStd = list(men_std)\n",
    "womenStd = list(women_std)\n",
    "\n",
    "#width = 0.35       \n",
    "\n",
    "#N = 3\n",
    "#ind = np.arange(N)  # the x locations for the groups\n",
    "width = 0.35      # the width of the bars\n",
    "\n",
    "#fig = plt.figure()\n",
    "#ax = fig.add_subplot(111)\n",
    "\n",
    "rects1 = plt.bar(ind, women_means, width,yerr=womenStd)\n",
    "rects2 = plt.bar(ind+width, men_means, width, yerr=menStd)\n",
    "\n",
    "plt.title('Delta moyen par sexe et salle')\n",
    "plt.ylabel('Delta')\n",
    "plt.xticks(ind, salles)\n",
    "plt.yticks(np.arange(-6, 5, 1))\n",
    "plt.legend( (rects1[0], rects2[0]), ('women', 'men') )\n",
    "\n",
    "def autolabel(rects):\n",
    "    for rect in rects:\n",
    "        h = rect.get_height()\n",
    "        plt.text(rect.get_x()+rect.get_width()/2., 1.05*h, '%d'%int(h),\n",
    "                ha='center', va='bottom')\n",
    "\n",
    "autolabel(rects1)\n",
    "autolabel(rects2)\n",
    "\n",
    "plt.savefig('Delta moyen par sexe et salle.png')\n",
    "plt.show()"
   ]
  },
  {
   "cell_type": "markdown",
   "metadata": {},
   "source": [
    "### Delta moyen par nombre d'essais et salle"
   ]
  },
  {
   "cell_type": "code",
   "execution_count": 139,
   "metadata": {},
   "outputs": [
    {
     "data": {
      "image/png": "[encoded data removed]",
      "text/plain": [
       "<matplotlib.figure.Figure at 0x7fbd122edc18>"
      ]
     },
     "metadata": {},
     "output_type": "display_data"
    }
   ],
   "source": [
    "if file_code !=1:\n",
    "    print ('You do not have different Nbre essais for this try')\n",
    "else:\n",
    "    import numpy as np\n",
    "    import matplotlib.pyplot as plt\n",
    "\n",
    "    df = mean(filter_col=['Lieux (A=salle, B=bureau)','Nbre essais'],col='Delta')\n",
    "    df\n",
    "\n",
    "    #df.loc[(df.index.get_level_values('A') > 1.7) & (df.index.get_level_values('B') < 666)]\n",
    "    one_means = df.loc[(df.index.get_level_values('Nbre essais') == 1)].Delta\n",
    "\n",
    "    two_means = df.loc[(df.index.get_level_values('Nbre essais') == 2)].Delta\n",
    "\n",
    "    df = std(filter_col=['Lieux (A=salle, B=bureau)','Nbre essais'],col='Delta')\n",
    "    one_std = df.loc[(df.index.get_level_values('Nbre essais') == 1)].Delta\n",
    "    two_std = df.loc[(df.index.get_level_values('Nbre essais') == 2)].Delta\n",
    "\n",
    "\n",
    "    salles = ['AA','AB','BA','BB']\n",
    "    N = len(salles)\n",
    "    ind = np.arange(N)  \n",
    "    oneMeans = list(one_means)\n",
    "    twoMeans = list(two_means)\n",
    "    oneStd = list(one_std)\n",
    "    twoStd = list(two_std)\n",
    "\n",
    "    #width = 0.35       \n",
    "\n",
    "    #N = 3\n",
    "    #ind = np.arange(N)  # the x locations for the groups\n",
    "    width = 0.35      # the width of the bars\n",
    "\n",
    "    #fig = plt.figure()\n",
    "    #ax = fig.add_subplot(111)\n",
    "\n",
    "    rects1 = plt.bar(ind, one_means, width,yerr=oneStd, color='b')\n",
    "    rects2 = plt.bar(ind+width, two_means, width, yerr=twoStd, color = 'r')\n",
    "\n",
    "    plt.title(\"Delta moyen par nb d'essais et par salle\")\n",
    "    plt.ylabel('Delta')\n",
    "    plt.xticks(ind, salles)\n",
    "    plt.yticks(np.arange(-6, 5, 1))\n",
    "    plt.legend( (rects1[0], rects2[0]), ('un essai', 'deux essais') )\n",
    "\n",
    "    def autolabel(rects):\n",
    "        for rect in rects:\n",
    "            h = rect.get_height()\n",
    "            plt.text(rect.get_x()+rect.get_width()/2., 1.05*h, '%d'%int(h),\n",
    "                    ha='center', va='bottom')\n",
    "\n",
    "    #autolabel(rects1)\n",
    "    #autolabel(rects2)\n",
    "\n",
    "    plt.savefig('Delta moyen par nb d\"essais.png')\n",
    "    plt.show()"
   ]
  },
  {
   "cell_type": "markdown",
   "metadata": {},
   "source": [
    "Scatter plot?"
   ]
  },
  {
   "cell_type": "markdown",
   "metadata": {},
   "source": [
    "### Delta moyen par score à l'apprentissage"
   ]
  },
  {
   "cell_type": "code",
   "execution_count": 108,
   "metadata": {},
   "outputs": [
    {
     "data": {
      "image/png": "[encoded data removed]",
      "text/plain": [
       "<matplotlib.figure.Figure at 0x7fbd11a0e9e8>"
      ]
     },
     "metadata": {},
     "output_type": "display_data"
    }
   ],
   "source": [
    "df_sum = resultats.groupby(by='Delta').sum()\n",
    "df_count = resultats.groupby(by='Delta').count()\n",
    "df = df_sum/df_count\n",
    "df = df.reset_index()\n",
    "\n",
    "\n",
    "x = df['CRI APP']\n",
    "y = df['Delta']\n",
    "plt.bar(x, y, width= 0.2)\n",
    "plt.title(\"Delta moyen par score à l'apprentissage\")\n",
    "plt.ylabel('Delta')\n",
    "plt.xlabel('Objets appris')\n",
    "\n",
    "plt.savefig('Delta VS apprentissage.png')\n",
    "plt.show()"
   ]
  },
  {
   "cell_type": "code",
   "execution_count": null,
   "metadata": {
    "collapsed": true
   },
   "outputs": [],
   "source": []
  }
 ],
 "metadata": {
  "kernelspec": {
   "display_name": "Python 3",
   "language": "python",
   "name": "python3"
  },
  "language_info": {
   "codemirror_mode": {
    "name": "ipython",
    "version": 3
   },
   "file_extension": ".py",
   "mimetype": "text/x-python",
   "name": "python",
   "nbconvert_exporter": "python",
   "pygments_lexer": "ipython3",
   "version": "3.6.3"
  }
 },
 "nbformat": 4,
 "nbformat_minor": 2
}
